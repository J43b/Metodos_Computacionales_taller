{
  "nbformat": 4,
  "nbformat_minor": 0,
  "metadata": {
    "colab": {
      "provenance": []
    },
    "kernelspec": {
      "display_name": "Python 3",
      "language": "python",
      "name": "python3"
    },
    "language_info": {
      "codemirror_mode": {
        "name": "ipython",
        "version": 3
      },
      "file_extension": ".py",
      "mimetype": "text/x-python",
      "name": "python",
      "nbconvert_exporter": "python",
      "pygments_lexer": "ipython3",
      "version": "3.7.2"
    }
  },
  "cells": [
    {
      "cell_type": "markdown",
      "source": [
        "<a href=\"https://colab.research.google.com/github/hernansalinas/autogrades/blob/main/Laboratorios_Taller/Lab08_DerivacionEIntegracion_01.ipynb\" target=\"_parent\"><img src=\"https://colab.research.google.com/assets/colab-badge.svg\" alt=\"Open In Colab\"/></a>\n"
      ],
      "metadata": {
        "id": "mfuoQaq5CYZG"
      }
    },
    {
      "cell_type": "markdown",
      "metadata": {
        "id": "8q4c8oS-hpaE"
      },
      "source": [
        "\n",
        "#1.Parte 1\n",
        "1. En un cirtcuito con un voltaje de  $\\varepsilon(t)$ y una inductancia de L, la primera ley de kirshhoff nos da la siguiente relación \n",
        "\n",
        "\n",
        "\\begin{equation}\n",
        "\\varepsilon(t) = L\\frac{\\mathrm{d}i}{\\mathrm{d}t} + Ri\n",
        "\\end{equation}\n",
        "\n",
        "donde r, es la resistencia del ciruito, i es la corriente. Suponga que medimos la corriente con varios valores de t y obtenemos:\n",
        "\n",
        "t = 1.00, 1.01, 1.02, 1.03, 1.0\n",
        "\n",
        "i = 3.10, 3.12, 3.14, 3.18, 3.24\n",
        "\n",
        "\n",
        "donde t se mide en segundos, i se de en amper, la inductancia L es una constante de 0.98 herios, la resistencia es de 0.142 ohms. Aproxime el votaje  $\\varepsilon(t)$ en los valores t=1.00, 1.01, 1.02, 1.03, 1.04 ,  para ello realice lo siguiente:\n",
        "\n",
        "\n",
        "- Construya un data frame de pandas con los valores de tiempo y corriente \n",
        "- Emplee un metodo calcular la derivada numérica. \n",
        "\n",
        "\n",
        "\n"
      ]
    },
    {
      "cell_type": "markdown",
      "metadata": {
        "id": "WV6dMBzK_odZ"
      },
      "source": [
        "\n",
        "\n",
        "\n",
        "# Parte 2\n",
        "\n",
        "1. Escribir en código Markdown la expresión para calcular una integral con la regla del trapecio.\n",
        "\n",
        "2. Escribir en código Markdown la expresión para calcular una integral con la regla del simpson\n",
        "\n",
        "\n",
        "3. Escribir en código Markdown la expresión para calcular una integral con el metodo de cuadratura.\n",
        "\n",
        "4. Calcular una aproximación con el metodo 1,2,3 de las siguientes integrales\n",
        "\n",
        "<!-- \n",
        " $$\n",
        " \\int_0^\\pi e^{1-\\sqrt{x}}\\, dx\n",
        " $$  -->\n",
        "\n",
        "\n",
        "- $$\n",
        " \\int_0^{\\pi/2} \\frac{1}{\\sqrt{\\tan x}}\\, dx\n",
        " $$\n",
        "\n",
        "- \n",
        "$$\n",
        " \\int_{-\\infty}^{\\infty} \\frac{1}{1+x^2} \\, dx\n",
        " $$\n",
        "\n",
        "\n",
        "- \n",
        "\n",
        "$$\n",
        " \\int_{0}^{\\pi/4} \\int_{\\sin x}^{\\cos x} (2y\\sin x +\\cos^2 x)\\, dxdy\n",
        " $$\n",
        "\n",
        "<!-- \n",
        "- \n",
        "$$\n",
        " \\int_{-\\infty}^{\\infty} \\frac{1}{1+x^2} \\, dx\n",
        " $$ -->\n",
        "\n",
        "<!-- \n",
        "- \n",
        "$$\n",
        " \\int_{e}^{2e} \\frac{1}{\\ln x} \\, dx\n",
        " $$ -->\n",
        "\n",
        "\n",
        "garantizando  que el error sea menor a $\\varepsilon=1E-5$.  "
      ]
    },
    {
      "cell_type": "markdown",
      "metadata": {
        "id": "6hJGsmCkF6Wv"
      },
      "source": [
        "5. The next  problems are examples of how elliptic integrals enter into realistic physics problems. It is straightforward to evaluate any integral numerically using the techniques of this chapter, but it may be difficult for you to  know if the answers you obtain are correct. One way to hone your integral\u0002evaluating skills is to compare your answers from quadrature to power series\n",
        "expressions, or to a polynomial approximations of know precision. To help you in this regard, we present here a polynomial approximation for an elliptic integral (Abramowitz and Stegun, 1972):\n",
        "\n",
        "\\begin{equation}\n",
        "K(m)=\\int_{0}^{\\pi/2} \\frac{\\mathrm{d\\phi}}{\\sqrt{1-m\\sin^2\\phi}}\n",
        "\\end{equation}\n",
        "\n",
        "\\begin{equation}\n",
        "\\approx a_0+a_1m_1+a_2m_2 - [ b_0+b_1m_1+b_2m_1^2]\\ln m_1 + \\epsilon(m) \n",
        "\\end{equation}\n",
        "\n",
        "\n",
        "\n",
        "$m_1 = 1-m$, \n",
        "\n",
        "$ 0 \\le m \\le1 $\n",
        "\n",
        "$\\epsilon(m)\\leq 3\\times 10^{-5}$\n",
        "\n",
        "\n",
        "\n",
        "$a_0 = 1.3862944$\n",
        "\n",
        "$b_0 = 0.5$\n",
        "\n",
        "$a_1 = 0.1119723$\n",
        "\n",
        "$b_1 = 0.1213478$\n",
        "\n",
        "$a_2 = 0.00725296$\n",
        "\n",
        "$b_2 = 0.0288729$\n",
        "\n",
        "6. Figure 5.7 shows a current loop of radius a carrying a current I. The point P\n",
        "is a distance r from the center of the loop with spherical coordinates (r, θ, φ).\n",
        "Jackson (1988) solves for the φ component of the vector potential at point P\n",
        "in terms of elliptic integrals:\n",
        "\n",
        "\\begin{equation}\n",
        "A_{\\phi}(r, \\theta)=\\frac{\\mu_0}{4\\pi}\\frac{4Ia}{\\sqrt{a^2+r^2+2ar\\sin \\theta}}\\left(\\frac{(2-k^2)K(k)-2E(k)}{k^2} \\right)\n",
        "\\end{equation}\n",
        "\n",
        "\n",
        "where \n",
        "\n",
        "\\begin{equation}\n",
        "K(k)=\\int_{0}^{\\pi/2} \\frac{\\mathrm{d\\phi}}{\\sqrt{1-k^2\\sin^2\\phi}}\n",
        "\\end{equation}\n",
        "\n",
        "\n",
        "\\begin{equation}\n",
        "E(k)=\\int_{0}^{\\pi/2} \\mathrm{d\\phi} \\sqrt{1-k^2\\sin^2\\phi}\n",
        "\\end{equation}\n",
        "\n",
        "\n",
        "\\begin{equation}\n",
        "k^2=\\frac{4ar\\sin\\theta}{a^2+r^2+2ar\\sin\\theta}\n",
        "\\end{equation}\n",
        "\n",
        "\n",
        "\n",
        "Here K(k) is a complete elliptic integral of the first kind and E(k) is a complete\n",
        "elliptic integral of the second kind. For a = 1, I = 3, and μ0∕4π = 1, compute\n",
        "and plot\n",
        "\n",
        "a) Aφ(r = 1.1, θ) vs. θ\n",
        "\n",
        "b) Aφ(r, θ = π∕3) vs. r\n",
        "\n",
        "\n",
        "\n",
        "<!-- 7. Suppose a body of mass m is traveling vertically upward starting at the surface of the earth. If all\n",
        "resistance except gravity is neglected, the escape velocity v is given by\n",
        "\n",
        "$$\n",
        "v^2=2gR\\int_1 ^\\infty z^{-2} dz,\n",
        "$$\n",
        "\n",
        "where z=x/R, R is the earth radius and g de gravity aceleration. Approximate the scape velocity -->"
      ]
    },
    {
      "cell_type": "code",
      "source": [
        "from scipy.special import ellipk, ellipe\n",
        "import numpy as np\n",
        "import matplotlib.pyplot as plt\n",
        "import warnings\n",
        "\n",
        "# Ignorar todas las advertencias\n",
        "warnings.filterwarnings(\"ignore\")"
      ],
      "metadata": {
        "id": "PsN2VDy0Zg8K"
      },
      "execution_count": null,
      "outputs": []
    },
    {
      "cell_type": "code",
      "source": [
        "\n",
        "K = lambda k: ellipk(k**2) #Funcion K\n",
        "E = lambda k: ellipe(k**2) #Funcion E\n",
        "\n",
        "#Contruir la funcion A_phi\n",
        "def A_phi(r, theta):\n",
        "    #Datos del problema \n",
        "    a = 1\n",
        "    I = 3\n",
        "    mu = 4*np.pi \n",
        "    \n",
        "    #Definimos a k^2\n",
        "    k2 = 4*a*r*np.sin(theta)/(a**2+r**2+2*a*r*np.sin(theta))\n",
        "    k = np.sqrt(k2)\n",
        "    \n",
        "    #Separamos la funcion en dos terminos\n",
        "    term1 = ((mu/(4*np.pi ))*4*I*a)/np.sqrt(a**2+r**2+2*a*r*np.sin(theta))\n",
        "    term2 = (2-k2)*K(k)-2*E(k)\n",
        "    \n",
        "    return term2*term1/k**2\n",
        "\n",
        "#Ahora se procede a graficar a Aφ(r = 1.1, θ) vs. θ y  Aφ(r, θ = π∕3) vs. r\n",
        "\n",
        "fig, axs = plt.subplots(1,2, figsize=(15,5))\n",
        "ax = axs.flatten()\n",
        "\n",
        "#Grafica de Aφ(r = 1.1, θ) vs. θ\n",
        "r = 1.1\n",
        "theta = np.linspace(0,2*np.pi,1000)\n",
        "\n",
        "ax[0].plot(theta, A_phi(r,theta))\n",
        "ax[0].set_xlabel(r'$\\theta$')\n",
        "ax[0].set_ylabel(r'$A_{\\phi}$')\n",
        "ax[0].set_title(r'$A_{\\phi}(r = 1.1, \\theta)$ vs. $\\theta$')\n",
        "ax[0].grid()\n",
        "\n",
        "#Grafica de Aφ(r, θ = π∕3) vs. r\n",
        "r = np.linspace(0,5,100)\n",
        "theta = np.pi/3\n",
        "\n",
        "ax[1].plot(r, A_phi(r,theta))\n",
        "ax[1].set_xlabel(r'$r$')\n",
        "ax[1].set_ylabel(r'$A_{\\phi}$')\n",
        "ax[1].set_title(r'$A_{\\phi}(r, \\theta = \\pi/3)$ vs. $r$')\n",
        "ax[1].grid()\n",
        "\n",
        "plt.show()"
      ],
      "metadata": {
        "id": "q253avtsDcfQ",
        "colab": {
          "base_uri": "https://localhost:8080/",
          "height": 461
        },
        "outputId": "03115836-4291-4bef-df14-c3aa806abff3"
      },
      "execution_count": null,
      "outputs": [
        {
          "output_type": "display_data",
          "data": {
            "text/plain": [
              "<Figure size 1500x500 with 2 Axes>"
            ],
            "image/png": "[encoded data removed]"
          },
          "metadata": {}
        }
      ]
    },
    {
      "cell_type": "markdown",
      "metadata": {
        "id": "dJVCeEtpX2sJ"
      },
      "source": [
        "\n",
        "7 Write a double precision program to integrate an arbitrary function numerically using the trapezoid rule, the Simpson rule, and Gaussian quadrature. For our assumed problems there is an analytics answer:\n",
        "\n",
        "\\begin{equation}\n",
        "\\frac{\\mathrm{d}N(t)}{\\mathrm{d}t}=e^{-t}\n",
        "\\end{equation}\n",
        "\n",
        "\\begin{equation}\n",
        "N(1)=\\int_0^{1}e^{-t} dt=1-e^{-1}\n",
        "\\end{equation}\n",
        "\n",
        "7.2. Compute the relative error $\\epsilon=|numerical-exact|/exact$ in each case. Present your data in the tabular form \n",
        "with space or tabas seprating the field. Try N values of 2, 10, 20 , 40 , 80, 160\n",
        "\n",
        "| N  |$\\epsilon_T$ | $\\epsilon_S$ | $\\epsilon_G$ |\n",
        "|----|---------------|--------------|--------------|\n",
        "|   2  |...|...|...|\n",
        "|   10  |...|...|...|\n",
        "\n",
        "7.3. Make a log-log plot of relative errore versus. You should observe that \n",
        "$\\epsilon\\approx CN^{\\alpha}$, $\\mathrm{log} \\epsilon =\\alpha \\mathrm{log}N + \\mathrm{constant}$. This mean that a power-law dependence appears as a straight line on a log-log plot, and that if you use $\\log_{10}$, the the ordinate on your log-log plot will be the negative of the numver of decimal places of presicion in your calculation.\n",
        "7.4. Use your plot or table to stimate the power-law dependence of the error $\\epsilon$ on the number of points N and to determine the number of decimal places of presicion in your calculation. Do this for both the trapezoid and simpsons rules and for both the algolrithmic and round-off error regimes. (Note that if may be hard to reach the round-off error regime for the trapezoid rule becasue the aproximation ) error is so large"
      ]
    },
    {
      "cell_type": "markdown",
      "source": [
        "# **Solución**"
      ],
      "metadata": {
        "id": "iVEGACNDCzjh"
      }
    },
    {
      "cell_type": "markdown",
      "source": [
        "#1.Parte 1\n",
        "1. En un cirtcuito con un voltaje de  $\\varepsilon(t)$ y una inductancia de L, la primera ley de kirshhoff nos da la siguiente relación \n",
        "\n",
        "\n",
        "\\begin{equation}\n",
        "\\varepsilon(t) = L\\frac{\\mathrm{d}i}{\\mathrm{d}t} + Ri\n",
        "\\end{equation}\n",
        "\n",
        "donde r, es la resistencia del ciruito, i es la corriente. Suponga que medimos la corriente con varios valores de t y obtenemos:\n",
        "\n",
        "t = 1.00, 1.01, 1.02, 1.03, 1.0\n",
        "\n",
        "i = 3.10, 3.12, 3.14, 3.18, 3.24\n",
        "\n",
        "\n",
        "donde t se mide en segundos, i se de en amper, la inductancia L es una constante de 0.98 herios, la resistencia es de 0.142 ohms. Aproxime el votaje  $\\varepsilon(t)$ en los valores t=1.00, 1.01, 1.02, 1.03, 1.04 ,  para ello realice lo siguiente:\n",
        "\n",
        "\n",
        "- Construya un data frame de pandas con los valores de tiempo y corriente \n",
        "- Emplee un metodo calcular la derivada numérica. "
      ],
      "metadata": {
        "id": "1WL3B0mlQG-C"
      }
    },
    {
      "cell_type": "code",
      "source": [
        "import pandas as pd\n",
        "import numpy as np\n",
        "import matplotlib.pyplot as plt\n",
        "from scipy.misc import derivative\n",
        "from scipy.interpolate import CubicSpline\n",
        "\n"
      ],
      "metadata": {
        "id": "3L6ymylCP7ci"
      },
      "execution_count": 1,
      "outputs": []
    },
    {
      "cell_type": "code",
      "source": [
        "corriente = {\"1\": 3.10, \"2\":3.12, \"3\": 3.14, \"4\":3.18, \"5\": 3.24}\n",
        "tiempo = {\"1\":1.00, \"2\": 1.01, \"3\": 1.02, \"4\": 1.03, \"5\": 1.04}\n",
        "\n",
        "\n",
        "Amper = pd.Series(corriente)\n",
        "seg = pd.Series(tiempo)\n",
        "df= pd.concat([Amper,seg], axis=1)\n",
        "df.columns= ['Corriente','segundos']\n",
        "df"
      ],
      "metadata": {
        "colab": {
          "base_uri": "https://localhost:8080/",
          "height": 206
        },
        "id": "sFMoIvbbUyhk",
        "outputId": "0bc28dfc-4074-408a-909d-5044f543288b"
      },
      "execution_count": 2,
      "outputs": [
        {
          "output_type": "execute_result",
          "data": {
            "text/plain": [
              "   Corriente  segundos\n",
              "1       3.10      1.00\n",
              "2       3.12      1.01\n",
              "3       3.14      1.02\n",
              "4       3.18      1.03\n",
              "5       3.24      1.04"
            ],
            "text/html": [
              "\n",
              "  <div id=\"df-4afc84d2-3be7-45d8-86ba-aeae47430e30\">\n",
              "    <div class=\"colab-df-container\">\n",
              "      <div>\n",
              "<style scoped>\n",
              "    .dataframe tbody tr th:only-of-type {\n",
              "        vertical-align: middle;\n",
              "    }\n",
              "\n",
              "    .dataframe tbody tr th {\n",
              "        vertical-align: top;\n",
              "    }\n",
              "\n",
              "    .dataframe thead th {\n",
              "        text-align: right;\n",
              "    }\n",
              "</style>\n",
              "<table border=\"1\" class=\"dataframe\">\n",
              "  <thead>\n",
              "    <tr style=\"text-align: right;\">\n",
              "      <th></th>\n",
              "      <th>Corriente</th>\n",
              "      <th>segundos</th>\n",
              "    </tr>\n",
              "  </thead>\n",
              "  <tbody>\n",
              "    <tr>\n",
              "      <th>1</th>\n",
              "      <td>3.10</td>\n",
              "      <td>1.00</td>\n",
              "    </tr>\n",
              "    <tr>\n",
              "      <th>2</th>\n",
              "      <td>3.12</td>\n",
              "      <td>1.01</td>\n",
              "    </tr>\n",
              "    <tr>\n",
              "      <th>3</th>\n",
              "      <td>3.14</td>\n",
              "      <td>1.02</td>\n",
              "    </tr>\n",
              "    <tr>\n",
              "      <th>4</th>\n",
              "      <td>3.18</td>\n",
              "      <td>1.03</td>\n",
              "    </tr>\n",
              "    <tr>\n",
              "      <th>5</th>\n",
              "      <td>3.24</td>\n",
              "      <td>1.04</td>\n",
              "    </tr>\n",
              "  </tbody>\n",
              "</table>\n",
              "</div>\n",
              "      <button class=\"colab-df-convert\" onclick=\"convertToInteractive('df-4afc84d2-3be7-45d8-86ba-aeae47430e30')\"\n",
              "              title=\"Convert this dataframe to an interactive table.\"\n",
              "              style=\"display:none;\">\n",
              "        \n",
              "  <svg xmlns=\"http://www.w3.org/2000/svg\" height=\"24px\"viewBox=\"0 0 24 24\"\n",
              "       width=\"24px\">\n",
              "    <path d=\"M0 0h24v24H0V0z\" fill=\"none\"/>\n",
              "    <path d=\"M18.56 5.44l.94 2.06.94-2.06 2.06-.94-2.06-.94-.94-2.06-.94 2.06-2.06.94zm-11 1L8.5 8.5l.94-2.06 2.06-.94-2.06-.94L8.5 2.5l-.94 2.06-2.06.94zm10 10l.94 2.06.94-2.06 2.06-.94-2.06-.94-.94-2.06-.94 2.06-2.06.94z\"/><path d=\"M17.41 7.96l-1.37-1.37c-.4-.4-.92-.59-1.43-.59-.52 0-1.04.2-1.43.59L10.3 9.45l-7.72 7.72c-.78.78-.78 2.05 0 2.83L4 21.41c.39.39.9.59 1.41.59.51 0 1.02-.2 1.41-.59l7.78-7.78 2.81-2.81c.8-.78.8-2.07 0-2.86zM5.41 20L4 18.59l7.72-7.72 1.47 1.35L5.41 20z\"/>\n",
              "  </svg>\n",
              "      </button>\n",
              "      \n",
              "  <style>\n",
              "    .colab-df-container {\n",
              "      display:flex;\n",
              "      flex-wrap:wrap;\n",
              "      gap: 12px;\n",
              "    }\n",
              "\n",
              "    .colab-df-convert {\n",
              "      background-color: #E8F0FE;\n",
              "      border: none;\n",
              "      border-radius: 50%;\n",
              "      cursor: pointer;\n",
              "      display: none;\n",
              "      fill: #1967D2;\n",
              "      height: 32px;\n",
              "      padding: 0 0 0 0;\n",
              "      width: 32px;\n",
              "    }\n",
              "\n",
              "    .colab-df-convert:hover {\n",
              "      background-color: #E2EBFA;\n",
              "      box-shadow: 0px 1px 2px rgba(60, 64, 67, 0.3), 0px 1px 3px 1px rgba(60, 64, 67, 0.15);\n",
              "      fill: #174EA6;\n",
              "    }\n",
              "\n",
              "    [theme=dark] .colab-df-convert {\n",
              "      background-color: #3B4455;\n",
              "      fill: #D2E3FC;\n",
              "    }\n",
              "\n",
              "    [theme=dark] .colab-df-convert:hover {\n",
              "      background-color: #434B5C;\n",
              "      box-shadow: 0px 1px 3px 1px rgba(0, 0, 0, 0.15);\n",
              "      filter: drop-shadow(0px 1px 2px rgba(0, 0, 0, 0.3));\n",
              "      fill: #FFFFFF;\n",
              "    }\n",
              "  </style>\n",
              "\n",
              "      <script>\n",
              "        const buttonEl =\n",
              "          document.querySelector('#df-4afc84d2-3be7-45d8-86ba-aeae47430e30 button.colab-df-convert');\n",
              "        buttonEl.style.display =\n",
              "          google.colab.kernel.accessAllowed ? 'block' : 'none';\n",
              "\n",
              "        async function convertToInteractive(key) {\n",
              "          const element = document.querySelector('#df-4afc84d2-3be7-45d8-86ba-aeae47430e30');\n",
              "          const dataTable =\n",
              "            await google.colab.kernel.invokeFunction('convertToInteractive',\n",
              "                                                     [key], {});\n",
              "          if (!dataTable) return;\n",
              "\n",
              "          const docLinkHtml = 'Like what you see? Visit the ' +\n",
              "            '<a target=\"_blank\" href=https://colab.research.google.com/notebooks/data_table.ipynb>data table notebook</a>'\n",
              "            + ' to learn more about interactive tables.';\n",
              "          element.innerHTML = '';\n",
              "          dataTable['output_type'] = 'display_data';\n",
              "          await google.colab.output.renderOutput(dataTable, element);\n",
              "          const docLink = document.createElement('div');\n",
              "          docLink.innerHTML = docLinkHtml;\n",
              "          element.appendChild(docLink);\n",
              "        }\n",
              "      </script>\n",
              "    </div>\n",
              "  </div>\n",
              "  "
            ]
          },
          "metadata": {},
          "execution_count": 2
        }
      ]
    },
    {
      "cell_type": "code",
      "source": [
        "plt.plot(df['segundos'],df['Corriente'], \"ro\")"
      ],
      "metadata": {
        "colab": {
          "base_uri": "https://localhost:8080/",
          "height": 447
        },
        "id": "Flx8PnqBWip3",
        "outputId": "a6a8215e-e710-4a7b-f8a1-56f722719eec"
      },
      "execution_count": null,
      "outputs": [
        {
          "output_type": "execute_result",
          "data": {
            "text/plain": [
              "[<matplotlib.lines.Line2D at 0x7f31a97a3970>]"
            ]
          },
          "metadata": {},
          "execution_count": 3
        },
        {
          "output_type": "display_data",
          "data": {
            "text/plain": [
              "<Figure size 640x480 with 1 Axes>"
            ],
            "image/png": "[encoded data removed]"
          },
          "metadata": {}
        }
      ]
    },
    {
      "cell_type": "code",
      "source": [
        "url =\"https://raw.githubusercontent.com/hernansalinas/autogrades/main/Laboratorios_Taller/dataset/corrienteVstiempo\"\n",
        "df2= pd.read_csv(url)\n",
        "df2"
      ],
      "metadata": {
        "colab": {
          "base_uri": "https://localhost:8080/",
          "height": 423
        },
        "id": "osIBy88FXXBG",
        "outputId": "d434bab6-c094-4b0f-e680-4f5d61e19c02"
      },
      "execution_count": 3,
      "outputs": [
        {
          "output_type": "execute_result",
          "data": {
            "text/plain": [
              "    Unnamed: 0  Corriente    tiempo\n",
              "0            0   0.000000   0.00000\n",
              "1            1   0.014533   0.10101\n",
              "2            2   0.028854   0.20202\n",
              "3            3   0.042967   0.30303\n",
              "4            4   0.056875   0.40404\n",
              "..         ...        ...       ...\n",
              "95          95   0.751104   9.59596\n",
              "96          96   0.754721   9.69697\n",
              "97          97   0.758285   9.79798\n",
              "98          98   0.761798   9.89899\n",
              "99          99   0.765260  10.00000\n",
              "\n",
              "[100 rows x 3 columns]"
            ],
            "text/html": [
              "\n",
              "  <div id=\"df-4bfba2c2-ccb5-409c-9d61-02cc1f8011b8\">\n",
              "    <div class=\"colab-df-container\">\n",
              "      <div>\n",
              "<style scoped>\n",
              "    .dataframe tbody tr th:only-of-type {\n",
              "        vertical-align: middle;\n",
              "    }\n",
              "\n",
              "    .dataframe tbody tr th {\n",
              "        vertical-align: top;\n",
              "    }\n",
              "\n",
              "    .dataframe thead th {\n",
              "        text-align: right;\n",
              "    }\n",
              "</style>\n",
              "<table border=\"1\" class=\"dataframe\">\n",
              "  <thead>\n",
              "    <tr style=\"text-align: right;\">\n",
              "      <th></th>\n",
              "      <th>Unnamed: 0</th>\n",
              "      <th>Corriente</th>\n",
              "      <th>tiempo</th>\n",
              "    </tr>\n",
              "  </thead>\n",
              "  <tbody>\n",
              "    <tr>\n",
              "      <th>0</th>\n",
              "      <td>0</td>\n",
              "      <td>0.000000</td>\n",
              "      <td>0.00000</td>\n",
              "    </tr>\n",
              "    <tr>\n",
              "      <th>1</th>\n",
              "      <td>1</td>\n",
              "      <td>0.014533</td>\n",
              "      <td>0.10101</td>\n",
              "    </tr>\n",
              "    <tr>\n",
              "      <th>2</th>\n",
              "      <td>2</td>\n",
              "      <td>0.028854</td>\n",
              "      <td>0.20202</td>\n",
              "    </tr>\n",
              "    <tr>\n",
              "      <th>3</th>\n",
              "      <td>3</td>\n",
              "      <td>0.042967</td>\n",
              "      <td>0.30303</td>\n",
              "    </tr>\n",
              "    <tr>\n",
              "      <th>4</th>\n",
              "      <td>4</td>\n",
              "      <td>0.056875</td>\n",
              "      <td>0.40404</td>\n",
              "    </tr>\n",
              "    <tr>\n",
              "      <th>...</th>\n",
              "      <td>...</td>\n",
              "      <td>...</td>\n",
              "      <td>...</td>\n",
              "    </tr>\n",
              "    <tr>\n",
              "      <th>95</th>\n",
              "      <td>95</td>\n",
              "      <td>0.751104</td>\n",
              "      <td>9.59596</td>\n",
              "    </tr>\n",
              "    <tr>\n",
              "      <th>96</th>\n",
              "      <td>96</td>\n",
              "      <td>0.754721</td>\n",
              "      <td>9.69697</td>\n",
              "    </tr>\n",
              "    <tr>\n",
              "      <th>97</th>\n",
              "      <td>97</td>\n",
              "      <td>0.758285</td>\n",
              "      <td>9.79798</td>\n",
              "    </tr>\n",
              "    <tr>\n",
              "      <th>98</th>\n",
              "      <td>98</td>\n",
              "      <td>0.761798</td>\n",
              "      <td>9.89899</td>\n",
              "    </tr>\n",
              "    <tr>\n",
              "      <th>99</th>\n",
              "      <td>99</td>\n",
              "      <td>0.765260</td>\n",
              "      <td>10.00000</td>\n",
              "    </tr>\n",
              "  </tbody>\n",
              "</table>\n",
              "<p>100 rows × 3 columns</p>\n",
              "</div>\n",
              "      <button class=\"colab-df-convert\" onclick=\"convertToInteractive('df-4bfba2c2-ccb5-409c-9d61-02cc1f8011b8')\"\n",
              "              title=\"Convert this dataframe to an interactive table.\"\n",
              "              style=\"display:none;\">\n",
              "        \n",
              "  <svg xmlns=\"http://www.w3.org/2000/svg\" height=\"24px\"viewBox=\"0 0 24 24\"\n",
              "       width=\"24px\">\n",
              "    <path d=\"M0 0h24v24H0V0z\" fill=\"none\"/>\n",
              "    <path d=\"M18.56 5.44l.94 2.06.94-2.06 2.06-.94-2.06-.94-.94-2.06-.94 2.06-2.06.94zm-11 1L8.5 8.5l.94-2.06 2.06-.94-2.06-.94L8.5 2.5l-.94 2.06-2.06.94zm10 10l.94 2.06.94-2.06 2.06-.94-2.06-.94-.94-2.06-.94 2.06-2.06.94z\"/><path d=\"M17.41 7.96l-1.37-1.37c-.4-.4-.92-.59-1.43-.59-.52 0-1.04.2-1.43.59L10.3 9.45l-7.72 7.72c-.78.78-.78 2.05 0 2.83L4 21.41c.39.39.9.59 1.41.59.51 0 1.02-.2 1.41-.59l7.78-7.78 2.81-2.81c.8-.78.8-2.07 0-2.86zM5.41 20L4 18.59l7.72-7.72 1.47 1.35L5.41 20z\"/>\n",
              "  </svg>\n",
              "      </button>\n",
              "      \n",
              "  <style>\n",
              "    .colab-df-container {\n",
              "      display:flex;\n",
              "      flex-wrap:wrap;\n",
              "      gap: 12px;\n",
              "    }\n",
              "\n",
              "    .colab-df-convert {\n",
              "      background-color: #E8F0FE;\n",
              "      border: none;\n",
              "      border-radius: 50%;\n",
              "      cursor: pointer;\n",
              "      display: none;\n",
              "      fill: #1967D2;\n",
              "      height: 32px;\n",
              "      padding: 0 0 0 0;\n",
              "      width: 32px;\n",
              "    }\n",
              "\n",
              "    .colab-df-convert:hover {\n",
              "      background-color: #E2EBFA;\n",
              "      box-shadow: 0px 1px 2px rgba(60, 64, 67, 0.3), 0px 1px 3px 1px rgba(60, 64, 67, 0.15);\n",
              "      fill: #174EA6;\n",
              "    }\n",
              "\n",
              "    [theme=dark] .colab-df-convert {\n",
              "      background-color: #3B4455;\n",
              "      fill: #D2E3FC;\n",
              "    }\n",
              "\n",
              "    [theme=dark] .colab-df-convert:hover {\n",
              "      background-color: #434B5C;\n",
              "      box-shadow: 0px 1px 3px 1px rgba(0, 0, 0, 0.15);\n",
              "      filter: drop-shadow(0px 1px 2px rgba(0, 0, 0, 0.3));\n",
              "      fill: #FFFFFF;\n",
              "    }\n",
              "  </style>\n",
              "\n",
              "      <script>\n",
              "        const buttonEl =\n",
              "          document.querySelector('#df-4bfba2c2-ccb5-409c-9d61-02cc1f8011b8 button.colab-df-convert');\n",
              "        buttonEl.style.display =\n",
              "          google.colab.kernel.accessAllowed ? 'block' : 'none';\n",
              "\n",
              "        async function convertToInteractive(key) {\n",
              "          const element = document.querySelector('#df-4bfba2c2-ccb5-409c-9d61-02cc1f8011b8');\n",
              "          const dataTable =\n",
              "            await google.colab.kernel.invokeFunction('convertToInteractive',\n",
              "                                                     [key], {});\n",
              "          if (!dataTable) return;\n",
              "\n",
              "          const docLinkHtml = 'Like what you see? Visit the ' +\n",
              "            '<a target=\"_blank\" href=https://colab.research.google.com/notebooks/data_table.ipynb>data table notebook</a>'\n",
              "            + ' to learn more about interactive tables.';\n",
              "          element.innerHTML = '';\n",
              "          dataTable['output_type'] = 'display_data';\n",
              "          await google.colab.output.renderOutput(dataTable, element);\n",
              "          const docLink = document.createElement('div');\n",
              "          docLink.innerHTML = docLinkHtml;\n",
              "          element.appendChild(docLink);\n",
              "        }\n",
              "      </script>\n",
              "    </div>\n",
              "  </div>\n",
              "  "
            ]
          },
          "metadata": {},
          "execution_count": 3
        }
      ]
    },
    {
      "cell_type": "code",
      "source": [
        "plt.plot(df2['tiempo'],df2['Corriente'])"
      ],
      "metadata": {
        "colab": {
          "base_uri": "https://localhost:8080/",
          "height": 451
        },
        "id": "gcUy3FMbX5_G",
        "outputId": "ba41dff8-ad10-4abe-9645-3b44d8d33367"
      },
      "execution_count": 4,
      "outputs": [
        {
          "output_type": "execute_result",
          "data": {
            "text/plain": [
              "[<matplotlib.lines.Line2D at 0x7f955009fca0>]"
            ]
          },
          "metadata": {},
          "execution_count": 4
        },
        {
          "output_type": "display_data",
          "data": {
            "text/plain": [
              "<Figure size 640x480 with 1 Axes>"
            ],
            "image/png": "[encoded data removed]"
          },
          "metadata": {}
        }
      ]
    },
    {
      "cell_type": "code",
      "source": [
        "Cs= CubicSpline(df2['tiempo'],df2['Corriente'])\n",
        "#plt.plot(df2['tiempo'],Cs(df2['tiempo']))\n",
        "derivada = derivative(Cs,df2['tiempo'],dx= 0.10101)"
      ],
      "metadata": {
        "colab": {
          "base_uri": "https://localhost:8080/"
        },
        "id": "gXarabTHZypE",
        "outputId": "8ff34e3a-cdb5-4f84-909a-a1fa7d06dbac"
      },
      "execution_count": 5,
      "outputs": [
        {
          "output_type": "stream",
          "name": "stderr",
          "text": [
            "<ipython-input-5-8c40ba3d813e>:3: DeprecationWarning: scipy.misc.derivative is deprecated in SciPy v1.10.0; and will be completely removed in SciPy v1.12.0. You may consider using findiff: https://github.com/maroba/findiff or numdifftools: https://github.com/pbrod/numdifftools\n",
            "  derivada = derivative(Cs,df2['tiempo'],dx= 0.10101)\n"
          ]
        }
      ]
    },
    {
      "cell_type": "code",
      "source": [
        "plt.plot(df2['tiempo'],derivada)"
      ],
      "metadata": {
        "colab": {
          "base_uri": "https://localhost:8080/",
          "height": 447
        },
        "id": "vriFkKFnbCvh",
        "outputId": "40f8ea94-3865-4432-9909-7134a2fdc565"
      },
      "execution_count": 6,
      "outputs": [
        {
          "output_type": "execute_result",
          "data": {
            "text/plain": [
              "[<matplotlib.lines.Line2D at 0x7f954dc3aaa0>]"
            ]
          },
          "metadata": {},
          "execution_count": 6
        },
        {
          "output_type": "display_data",
          "data": {
            "text/plain": [
              "<Figure size 640x480 with 1 Axes>"
            ],
            "image/png": "[encoded data removed]"
          },
          "metadata": {}
        }
      ]
    },
    {
      "cell_type": "code",
      "source": [
        "derivada"
      ],
      "metadata": {
        "colab": {
          "base_uri": "https://localhost:8080/"
        },
        "id": "xHTAVX5gc0lu",
        "outputId": "5555302c-f3cd-4193-c2ce-ff29adb7251d"
      },
      "execution_count": 7,
      "outputs": [
        {
          "output_type": "execute_result",
          "data": {
            "text/plain": [
              "array([0.14493254, 0.14282648, 0.14075085, 0.13870538, 0.13668965,\n",
              "       0.1347032 , 0.13274563, 0.1308165 , 0.12891541, 0.12704194,\n",
              "       0.1251957 , 0.12337629, 0.12158333, 0.11981642, 0.11807518,\n",
              "       0.11635925, 0.11466826, 0.11300184, 0.11135964, 0.10974131,\n",
              "       0.10814649, 0.10657485, 0.10502605, 0.10349976, 0.10199564,\n",
              "       0.10051339, 0.09905268, 0.09761319, 0.09619463, 0.09479668,\n",
              "       0.09341904, 0.09206143, 0.09072355, 0.08940511, 0.08810583,\n",
              "       0.08682543, 0.08556363, 0.08432018, 0.0830948 , 0.08188722,\n",
              "       0.08069719, 0.07952446, 0.07836877, 0.07722987, 0.07610753,\n",
              "       0.0750015 , 0.07391154, 0.07283742, 0.0717789 , 0.07073578,\n",
              "       0.06970781, 0.06869478, 0.06769647, 0.06671267, 0.06574317,\n",
              "       0.06478775, 0.06384623, 0.06291838, 0.06200402, 0.06110294,\n",
              "       0.06021496, 0.05933989, 0.05847753, 0.05762771, 0.05679023,\n",
              "       0.05596492, 0.05515161, 0.05435012, 0.05356028, 0.05278191,\n",
              "       0.05201486, 0.05125895, 0.05051403, 0.04977994, 0.04905651,\n",
              "       0.04834359, 0.04764104, 0.0469487 , 0.04626641, 0.04559405,\n",
              "       0.04493145, 0.04427848, 0.043635  , 0.04300088, 0.04237597,\n",
              "       0.04176014, 0.04115326, 0.0405552 , 0.03996583, 0.03938503,\n",
              "       0.03881266, 0.03824862, 0.03769277, 0.037145  , 0.03660519,\n",
              "       0.03607322, 0.03554899, 0.03503237, 0.03452326, 0.0340216 ])"
            ]
          },
          "metadata": {},
          "execution_count": 7
        }
      ]
    },
    {
      "cell_type": "code",
      "source": [
        "import pandas as pd\n",
        "import numpy as np\n",
        "import matplotlib.pyplot as plt\n",
        "from scipy.misc import derivative\n",
        "from scipy.interpolate import CubicSpline\n",
        "\n",
        "def read_file(phat,select):\n",
        "  if(select==\"csv\"):\n",
        "    df= pd.read_csv(phat)\n",
        "  elif(select==\"xlsx\"):\n",
        "    df=pd.read_excel(phat)\n",
        "  else:\n",
        "    print(\"El argumento de read file deberia ser phat y select= cvs o xls\")\n",
        "    df= None\n",
        "  return  df \n",
        "\n",
        "def derivada(df):\n",
        "\n",
        "  Cs= CubicSpline(df['tiempo'],df['Corriente'])\n",
        "  derivada = derivative(Cs,df['tiempo'],dx= 0.10101) \n",
        "  return derivada   \n"
      ],
      "metadata": {
        "id": "-p3DZKOodeul"
      },
      "execution_count": 8,
      "outputs": []
    },
    {
      "cell_type": "code",
      "source": [
        "read_file(url,\"csv\")\n",
        "dA_dt= derivada(read_file(url,\"csv\"))"
      ],
      "metadata": {
        "colab": {
          "base_uri": "https://localhost:8080/"
        },
        "id": "I8R3csGUD0eP",
        "outputId": "c405600c-ecc6-4347-a1f9-1133a2d82217"
      },
      "execution_count": null,
      "outputs": [
        {
          "output_type": "stream",
          "name": "stderr",
          "text": [
            "<ipython-input-9-593184af8e3e>:20: DeprecationWarning: scipy.misc.derivative is deprecated in SciPy v1.10.0; and will be completely removed in SciPy v1.12.0. You may consider using findiff: https://github.com/maroba/findiff or numdifftools: https://github.com/pbrod/numdifftools\n",
            "  derivada = derivative(Cs,df['tiempo'],dx= 0.10101)\n"
          ]
        }
      ]
    },
    {
      "cell_type": "markdown",
      "source": [
        "# Parte 2\n",
        "\n",
        "1. Escribir en código Markdown la expresión para calcular una integral con la regla del trapecio.\n",
        "\n",
        "2. Escribir en código Markdown la expresión para calcular una integral con la regla del simpson\n",
        "\n",
        "\n",
        "3. Escribir en código Markdown la expresión para calcular una integral con el metodo de cuadratura.\n",
        "\n",
        "4. Calcular una aproximación con el metodo 1,2,3 de las siguientes integrales\n",
        "\n",
        "<!-- \n",
        " $$\n",
        " \\int_0^\\pi e^{1-\\sqrt{x}}\\, dx\n",
        " $$  -->\n",
        "\n",
        "\n",
        "- $$\n",
        " \\int_0^{\\pi/2} \\frac{1}{\\sqrt{\\tan x}}\\, dx\n",
        " $$\n",
        "\n",
        "- \n",
        "$$\n",
        " \\int_{-\\infty}^{\\infty} \\frac{1}{1+x^2} \\, dx\n",
        " $$\n",
        "\n",
        "\n",
        "- \n",
        "\n",
        "$$\n",
        " \\int_{0}^{\\pi/4} \\int_{\\sin x}^{\\cos x} (2y\\sin x +\\cos^2 x)\\, dxdy\n",
        " $$\n",
        "\n",
        "<!-- \n",
        "- \n",
        "$$\n",
        " \\int_{-\\infty}^{\\infty} \\frac{1}{1+x^2} \\, dx\n",
        " $$ -->\n",
        "\n",
        "<!-- \n",
        "- \n",
        "$$\n",
        " \\int_{e}^{2e} \\frac{1}{\\ln x} \\, dx\n",
        " $$ -->\n",
        "\n",
        "\n",
        "garantizando  que el error sea menor a $\\varepsilon=1E-5$.  "
      ],
      "metadata": {
        "id": "6dtEKZ24cZXX"
      }
    },
    {
      "cell_type": "markdown",
      "source": [
        "1. Escribir en código Markdown la expresión para calcular una integral con la regla del trapecio.\n",
        "\n",
        "Dada la función $ f(x)$ y los intevalos $ I= [a, b]$ la integral por la regla del trapecio es :  \n",
        "\n",
        "\\begin{equation}\n",
        "\\int_a^b f(x) \\mathrm{d}x \\approx \\frac{\\Delta x}{2}[f(x_{0})+2f(x_{1})+2f(x_{2})+...+2f(x_{n-1})+ f(x_{n})]\n",
        "\\end{equation}\n",
        "\n",
        "Donde $\\Delta x$= $\\frac{b-a}{n}$ y $n$ representa el numero de sub intervalos en los que se divide $I$.  \n",
        "  \n",
        "2. Escribir en código Markdown la expresión para calcular una integral con la regla del simpson  \n",
        "\n",
        "\n",
        "Dada la función $ f(x)$ y los intevalos $I= [a, b]$ la integral por la regla de Simpson dice :  \n",
        "\n",
        "\n",
        "\\begin{equation}\n",
        "\\int_a^b f(x) \\mathrm{d}x \\approx \\frac{\\Delta x}{3}[f(x_{0}) + 2\\sum_{j=1}^{n-1}f(x_{2j})+ 4\\sum_{j=1}^{n}f(x_{2j-1})+f(x_{n})]\n",
        "\\end{equation}\n",
        "\n",
        "Donde $\\Delta x$= $\\frac{b-a}{n}$ con $n$ par.  \n",
        "\n",
        "3. Escribir en código Markdown la expresión para calcular una integral con el metodo de cuadratura.\n",
        "\n",
        "La integración por la el método de cuadratura o método de cuadratura de Gauss esta dada por la expresión:  \n",
        "  \n",
        "\\begin{equation}\n",
        "\\int_a^b f(x) \\mathrm{d}x \\approx \\sum_{i=1}^{n}W_{i}f(x_{i})\n",
        "\\end{equation}\n",
        "\n",
        "Donde $W_{i}$ son coeficiente arbitrarios y depende de los puntos que se tomen dentro del intervalo y $x_{i} \\in [a,b]$\n",
        "\n",
        "\n",
        "\n",
        "\n",
        "\n",
        "\n",
        "\n",
        "\n",
        "\n",
        "\n",
        "\n",
        "\n"
      ],
      "metadata": {
        "id": "NZa535-RKuQK"
      }
    },
    {
      "cell_type": "code",
      "source": [
        "from scipy import integrate\n",
        "import numpy as np\n",
        "import matplotlib.pylab as plt"
      ],
      "metadata": {
        "id": "-QKTbqhDeJO8"
      },
      "execution_count": 64,
      "outputs": []
    },
    {
      "cell_type": "code",
      "source": [
        "\n",
        "f = lambda x : 1/(np.tan(x)**0.5)\n",
        "\n",
        "\n",
        "@np.vectorize\n",
        "def integral_trap(N, epsilon):\n",
        "  x = np.linspace(0+epsilon, np.pi/2-epsilon, N)  \n",
        "  area = integrate.trapz(f(x), x)\n",
        "  return area\n",
        "\n",
        "ep=np.linspace(1E-6, 1E-3, 100)\n",
        "t1=integral_trap(100, ep)\n",
        "t2=integral_trap(500, ep)\n",
        "plt.figure(figsize=(3, 3))\n",
        "plt.plot(ep, t1, label=\"N=100\")\n",
        "plt.plot(ep, t2, label=\"N=500\")\n",
        "plt.xlabel(\"epsilon\")\n",
        "plt.ylabel(\"Convergencia\")\n",
        "plt.legend()\n"
      ],
      "metadata": {
        "colab": {
          "base_uri": "https://localhost:8080/",
          "height": 328
        },
        "id": "xCRZnGOGcQBP",
        "outputId": "da42c0dd-4e0c-4724-8e26-c8bcdd61b9d2"
      },
      "execution_count": 65,
      "outputs": [
        {
          "output_type": "execute_result",
          "data": {
            "text/plain": [
              "<matplotlib.legend.Legend at 0x7f95487595d0>"
            ]
          },
          "metadata": {},
          "execution_count": 65
        },
        {
          "output_type": "display_data",
          "data": {
            "text/plain": [
              "<Figure size 300x300 with 1 Axes>"
            ],
            "image/png": "[encoded data removed]"
          },
          "metadata": {}
        }
      ]
    },
    {
      "cell_type": "markdown",
      "source": [
        "$$\n",
        " \\int_{-\\infty}^{\\infty} \\frac{1}{1+x^2} \\, dx\n",
        " $$"
      ],
      "metadata": {
        "id": "xYrohViff-km"
      }
    },
    {
      "cell_type": "code",
      "source": [
        "from scipy.integrate import trapz\n",
        "from scipy.integrate import simpson\n",
        "from scipy.integrate import quadrature"
      ],
      "metadata": {
        "id": "8P4Od7dG3pb0"
      },
      "execution_count": 66,
      "outputs": []
    },
    {
      "cell_type": "code",
      "source": [
        "f = lambda x: 1/(1+x**2)\n",
        "N= 100000\n",
        "a=10000\n",
        "b=10000\n",
        "x_ = np.linspace(-(a),b,N)\n",
        "Integral_simp= integrate.simpson(f(x_),x_,dx= 1,even='avg')\n",
        "\n",
        "Integral_simp\n"
      ],
      "metadata": {
        "colab": {
          "base_uri": "https://localhost:8080/"
        },
        "id": "iz2m7DObeSs-",
        "outputId": "fb21f2b2-fce9-4f35-9744-77efb54c44d6"
      },
      "execution_count": 67,
      "outputs": [
        {
          "output_type": "execute_result",
          "data": {
            "text/plain": [
              "3.141392653590317"
            ]
          },
          "metadata": {},
          "execution_count": 67
        }
      ]
    },
    {
      "cell_type": "code",
      "source": [
        "integ_trap= integrate.trapz(f(x_),x_)\n",
        "integ_trap"
      ],
      "metadata": {
        "colab": {
          "base_uri": "https://localhost:8080/"
        },
        "id": "9-QzTZhQ3QiV",
        "outputId": "f48e79c3-9146-4f49-bda1-ccc29e21c382"
      },
      "execution_count": 68,
      "outputs": [
        {
          "output_type": "execute_result",
          "data": {
            "text/plain": [
              "3.1413926535903007"
            ]
          },
          "metadata": {},
          "execution_count": 68
        }
      ]
    },
    {
      "cell_type": "code",
      "source": [
        "integ_cuad= integrate.quadrature(f,a,b)\n",
        "integ_cuad"
      ],
      "metadata": {
        "colab": {
          "base_uri": "https://localhost:8080/"
        },
        "id": "MAJP4Meo6A49",
        "outputId": "16c87b4f-c0f5-4c74-c582-15289fa74422"
      },
      "execution_count": 69,
      "outputs": [
        {
          "output_type": "execute_result",
          "data": {
            "text/plain": [
              "(0.0, 0.0)"
            ]
          },
          "metadata": {},
          "execution_count": 69
        }
      ]
    },
    {
      "cell_type": "markdown",
      "source": [
        "$$\n",
        " \\int_{0}^{\\pi/4} \\int_{\\sin x}^{\\cos x} (2y\\sin x +\\cos^2 x)\\, dxdy\n",
        " $$"
      ],
      "metadata": {
        "id": "E-yn9aEMj-E3"
      }
    },
    {
      "cell_type": "code",
      "source": [
        "# Primero integraré de forma simbolica con sympy la primer parte de la integral, luego integraré respecto a y con alguno de los métodos\n",
        "import sympy as sp\n",
        "x= sp.symbols(\"x\")\n",
        "y = sp.symbols(\"y\")\n",
        "T1 = sp.sin(x)\n",
        "T2= sp.cos(x)**2\n",
        "\n",
        "f= 2*y*T1+T2 # acá lo que hice fue crear la funcion inicial\n",
        "int1 = sp.integrate(f,(x,sp.sin(y),sp.cos(y))) # Integré simbolicamente entre las funciones evaluadas en y\n",
        "num_int1= sp.lambdify(y,int1,'numpy') # Pasé la función resultante a un objeto de numpy\n",
        "\n",
        "x_1= np.linspace(0,np.pi/4,100) #cree un linspace entre los limites\n",
        "Integral_t= integrate.simpson(num_int1(x_1),x_1,dx=0.001, even='avg') # integre numericamente con el método simpson\n",
        "Integral_t"
      ],
      "metadata": {
        "colab": {
          "base_uri": "https://localhost:8080/"
        },
        "id": "lJyn-hLMjszS",
        "outputId": "b88b21b9-bdb1-45e6-be65-39ac02de6a91"
      },
      "execution_count": 70,
      "outputs": [
        {
          "output_type": "execute_result",
          "data": {
            "text/plain": [
              "0.40411966830294965"
            ]
          },
          "metadata": {},
          "execution_count": 70
        }
      ]
    },
    {
      "cell_type": "code",
      "source": [
        "import sympy as sp\n",
        "from scipy import optimize\n",
        "import matplotlib.pyplot as plt\n",
        "from scipy.integrate import trapz\n",
        "from scipy.integrate import simpson\n",
        "from scipy.integrate import quadrature\n",
        "\n",
        "f = lambda x : sp.log(1+x**2)\n",
        "#f = lambda x : 1/(1+x**2)\n",
        "x = sp.symbols(\"x\")\n",
        "\n",
        "d1= sp.diff(f(x), x,1)\n",
        "d2= sp.diff(f(x),x,2)\n",
        "\n"
      ],
      "metadata": {
        "id": "XKyA-gIxdIyG"
      },
      "execution_count": 71,
      "outputs": []
    },
    {
      "cell_type": "code",
      "source": [
        "d1"
      ],
      "metadata": {
        "colab": {
          "base_uri": "https://localhost:8080/",
          "height": 52
        },
        "id": "ZnfkjB9bfJqT",
        "outputId": "d504cdfe-e275-460d-9714-19087e696c5e"
      },
      "execution_count": 16,
      "outputs": [
        {
          "output_type": "execute_result",
          "data": {
            "text/plain": [
              "2*x/(x**2 + 1)"
            ],
            "text/latex": "$\\displaystyle \\frac{2 x}{x^{2} + 1}$"
          },
          "metadata": {},
          "execution_count": 16
        }
      ]
    },
    {
      "cell_type": "code",
      "source": [
        "d2"
      ],
      "metadata": {
        "colab": {
          "base_uri": "https://localhost:8080/",
          "height": 67
        },
        "id": "VPhbvyMcfx1Q",
        "outputId": "0447cea9-f14d-4d56-efba-121f95e04973"
      },
      "execution_count": 15,
      "outputs": [
        {
          "output_type": "execute_result",
          "data": {
            "text/plain": [
              "2*(-2*x**2/(x**2 + 1) + 1)/(x**2 + 1)"
            ],
            "text/latex": "$\\displaystyle \\frac{2 \\left(- \\frac{2 x^{2}}{x^{2} + 1} + 1\\right)}{x^{2} + 1}$"
          },
          "metadata": {},
          "execution_count": 15
        }
      ]
    },
    {
      "cell_type": "code",
      "source": [
        "d2_np= sp.lambdify(x, d2, 'numpy')\n",
        "nd2_np= (-1)*d2_np(x)\n",
        "x_= np.linspace(0.0001,1,100)\n",
        "\n",
        "plt.plot(x_,d2_np(x_))"
      ],
      "metadata": {
        "colab": {
          "base_uri": "https://localhost:8080/",
          "height": 447
        },
        "id": "CpDE7GQGfy6n",
        "outputId": "7f05216c-fd0b-4b7d-8f67-fdd4ec561555"
      },
      "execution_count": 72,
      "outputs": [
        {
          "output_type": "execute_result",
          "data": {
            "text/plain": [
              "[<matplotlib.lines.Line2D at 0x7f95486240a0>]"
            ]
          },
          "metadata": {},
          "execution_count": 72
        },
        {
          "output_type": "display_data",
          "data": {
            "text/plain": [
              "<Figure size 640x480 with 1 Axes>"
            ],
            "image/png": "[encoded data removed]"
          },
          "metadata": {}
        }
      ]
    },
    {
      "cell_type": "code",
      "source": [
        "min= optimize.fmin_powell(d2_np,0.0001)\n",
        "Max= np.max(d2_np(x_))\n",
        "\n",
        "epsilon = 0.001\n",
        "n= np.sqrt(abs(-d2_np(Max)/epsilon*12))\n"
      ],
      "metadata": {
        "colab": {
          "base_uri": "https://localhost:8080/"
        },
        "id": "dNOUzsEqgLV3",
        "outputId": "3ffa7d25-a04e-47a8-c5d3-72992c124c77"
      },
      "execution_count": 73,
      "outputs": [
        {
          "output_type": "stream",
          "name": "stdout",
          "text": [
            "Optimization terminated successfully.\n",
            "         Current function value: -0.250000\n",
            "         Iterations: 2\n",
            "         Function evaluations: 39\n"
          ]
        }
      ]
    },
    {
      "cell_type": "code",
      "source": [
        "n"
      ],
      "metadata": {
        "colab": {
          "base_uri": "https://localhost:8080/"
        },
        "id": "0ONc0loysiNg",
        "outputId": "58b1445d-18c1-46db-a6a1-04e28264e1cf"
      },
      "execution_count": 74,
      "outputs": [
        {
          "output_type": "execute_result",
          "data": {
            "text/plain": [
              "53.66563188931997"
            ]
          },
          "metadata": {},
          "execution_count": 74
        }
      ]
    },
    {
      "cell_type": "code",
      "source": [
        "f_np= sp.lambdify(x, f(x), 'numpy')\n",
        "a=0\n",
        "b=1\n",
        "N= 53\n",
        "x_ = np.linspace(a,b,N)\n",
        "integ= trapz(f_np(x_),x_)\n",
        "integ"
      ],
      "metadata": {
        "id": "VIEXk7xvtkCV",
        "colab": {
          "base_uri": "https://localhost:8080/"
        },
        "outputId": "669b5147-54f6-4007-8196-c59351de496d"
      },
      "execution_count": 75,
      "outputs": [
        {
          "output_type": "execute_result",
          "data": {
            "text/plain": [
              "0.2639743260852223"
            ]
          },
          "metadata": {},
          "execution_count": 75
        }
      ]
    },
    {
      "cell_type": "markdown",
      "source": [
        "7 Write a double precision program to integrate an arbitrary function numerically using the trapezoid rule, the Simpson rule, and Gaussian quadrature. For our assumed problems there is an analytics answer:\n",
        "\n",
        "\\begin{equation}\n",
        "\\frac{\\mathrm{d}N(t)}{\\mathrm{d}t}=e^{-t}\n",
        "\\end{equation}\n",
        "\n",
        "\\begin{equation}\n",
        "N(1)=\\int_0^{1}e^{-t} dt=1-e^{-1}\n",
        "\\end{equation}\n",
        "\n",
        "7.2. Compute the relative error $\\epsilon=|numerical-exact|/exact$ in each case. Present your data in the tabular form \n",
        "with space or tabas seprating the field. Try N values of 2, 10, 20 , 40 , 80, 160\n",
        "\n",
        "| N  |$\\epsilon_T$ | $\\epsilon_S$ | $\\epsilon_G$ |\n",
        "|----|---------------|--------------|--------------|\n",
        "|   2  |...|...|...|\n",
        "|   10  |...|...|...|\n",
        "\n",
        "7.3. Make a log-log plot of relative errore versus. You should observe that \n",
        "$\\epsilon\\approx CN^{\\alpha}$, $\\mathrm{log} \\epsilon =\\alpha \\mathrm{log}N + \\mathrm{constant}$. This mean that a power-law dependence appears as a straight line on a log-log plot, and that if you use $\\log_{10}$, the the ordinate on your log-log plot will be the negative of the numver of decimal places of presicion in your calculation.\n",
        "7.4. Use your plot or table to stimate the power-law dependence of the error $\\epsilon$ on the number of points N and to determine the number of decimal places of presicion in your calculation. Do this for both the trapezoid and simpsons rules and for both the algolrithmic and round-off error regimes. (Note that if may be hard to reach the round-off error regime for the trapezoid rule becasue the aproximation ) error is so large"
      ],
      "metadata": {
        "id": "VjKx8oTkK2dS"
      }
    },
    {
      "cell_type": "code",
      "source": [
        "# Calculo simbolico para tener la integral exacta\n",
        "\n",
        "x= sp.symbols(\"x\")\n",
        "f2 = x**2\n",
        "symbo_int= sp.integrate(f2,(x,0,1))\n",
        "symbo_int\n",
        "int_np= sp.lambdify(x, symbo_int, 'numpy')\n",
        "float(symbo_int)"
      ],
      "metadata": {
        "colab": {
          "base_uri": "https://localhost:8080/"
        },
        "id": "7x7bYOHn-fhT",
        "outputId": "8e1de3c6-5a65-4d54-80f3-5cd3aad321eb"
      },
      "execution_count": 20,
      "outputs": [
        {
          "output_type": "execute_result",
          "data": {
            "text/plain": [
              "0.3333333333333333"
            ]
          },
          "metadata": {},
          "execution_count": 20
        }
      ]
    },
    {
      "cell_type": "code",
      "source": [
        "# Integral numerica\n",
        "f_2= lambda x : x**2\n",
        "a= 0\n",
        "b= 1\n",
        "N= 2\n",
        "x_2= np.linspace(a,b,N)\n",
        "inte_traP = trapz(f_2(x_2),x_2)\n",
        "inte_traP"
      ],
      "metadata": {
        "colab": {
          "base_uri": "https://localhost:8080/"
        },
        "id": "Q-hlVF-wOvex",
        "outputId": "6a9e1060-67df-492d-e2da-0faa1ea6494f"
      },
      "execution_count": 21,
      "outputs": [
        {
          "output_type": "execute_result",
          "data": {
            "text/plain": [
              "0.5"
            ]
          },
          "metadata": {},
          "execution_count": 21
        }
      ]
    },
    {
      "cell_type": "code",
      "source": [
        "#Error\n",
        "error= (inte_traP-1/3)/inte_traP\n",
        "error\n"
      ],
      "metadata": {
        "colab": {
          "base_uri": "https://localhost:8080/"
        },
        "id": "mFI_UUngQS5W",
        "outputId": "8c4ad442-4074-4520-d868-8fea5712cc7a"
      },
      "execution_count": 22,
      "outputs": [
        {
          "output_type": "execute_result",
          "data": {
            "text/plain": [
              "0.33333333333333337"
            ]
          },
          "metadata": {},
          "execution_count": 22
        }
      ]
    },
    {
      "cell_type": "code",
      "source": [
        "def errorT(funtion,a,b,N):\n",
        "  x= sp.symbols(\"x\")\n",
        "  f= funtion\n",
        "  symbo_int = sp.integrate(f,(x,a,b))\n",
        "  exac = float(symbo_int)\n",
        "  f_num= lambda x: eval(funtion)\n",
        "\n",
        "  x_3 = np.linspace(a,b,N)\n",
        "  #print(type(f_num(x_3)))\n",
        "  int_num= trapz(f_num(x_3),x_3) # Este error no lo entiendo\n",
        "\n",
        "  return int_num\n",
        "funtion = \"x**2\"\n",
        "errorT(funtion,0,1,2)\n",
        "\n",
        "\n"
      ],
      "metadata": {
        "colab": {
          "base_uri": "https://localhost:8080/"
        },
        "id": "q3uUmzjXVFYi",
        "outputId": "753c6a31-498c-4dae-d825-1dac23fa7b9c"
      },
      "execution_count": 23,
      "outputs": [
        {
          "output_type": "execute_result",
          "data": {
            "text/plain": [
              "0.5"
            ]
          },
          "metadata": {},
          "execution_count": 23
        }
      ]
    },
    {
      "cell_type": "markdown",
      "source": [
        "5. The next  problems are examples of how elliptic integrals enter into realistic physics problems. It is straightforward to evaluate any integral numerically using the techniques of this chapter, but it may be difficult for you to  know if the answers you obtain are correct. One way to hone your integral\u0002evaluating skills is to compare your answers from quadrature to power series\n",
        "expressions, or to a polynomial approximations of know precision. To help you in this regard, we present here a polynomial approximation for an elliptic integral (Abramowitz and Stegun, 1972):\n",
        "\n",
        "\\begin{equation}\n",
        "K(m)=\\int_{0}^{\\pi/2} \\frac{\\mathrm{d\\phi}}{\\sqrt{1-m\\sin^2\\phi}}\n",
        "\\end{equation}\n",
        "\n",
        "\\begin{equation}\n",
        "\\approx a_0+a_1m_1+a_2m_2 - [ b_0+b_1m_1+b_2m_1^2]\\ln m_1 + \\epsilon(m) \n",
        "\\end{equation}\n",
        "\n",
        "\n",
        "\n",
        "$m_1 = 1-m$, \n",
        "\n",
        "$ 0 \\le m \\le1 $\n",
        "\n",
        "$\\epsilon(m)\\leq 3\\times 10^{-5}$\n",
        "\n",
        "\n",
        "\n",
        "$a_0 = 1.3862944$\n",
        "\n",
        "$b_0 = 0.5$\n",
        "\n",
        "$a_1 = 0.1119723$\n",
        "\n",
        "$b_1 = 0.1213478$\n",
        "\n",
        "$a_2 = 0.00725296$\n",
        "\n",
        "$b_2 = 0.0288729$"
      ],
      "metadata": {
        "id": "tR6aZJKgEf3_"
      }
    },
    {
      "cell_type": "code",
      "source": [
        "m= 0.5\n",
        "K = lambda phi: 1/np.sqrt(1-m*np.sin(phi)**2) \n",
        "ϕ = sp.symbols(\"ϕ\")\n",
        "funtion= 1/sp.sqrt(1-m*sp.sin(ϕ)**2)\n",
        "K_sp= sp.integrate(funtion,(ϕ,0,sp.pi/2))\n",
        "result= float(K_sp)\n",
        "\n",
        "\n"
      ],
      "metadata": {
        "id": "v9LqhY73Ybae"
      },
      "execution_count": 24,
      "outputs": []
    },
    {
      "cell_type": "code",
      "source": [
        "result"
      ],
      "metadata": {
        "colab": {
          "base_uri": "https://localhost:8080/"
        },
        "id": "ChfAyoq4Ie4I",
        "outputId": "f53d67a2-2488-4766-8852-e346e34f31de"
      },
      "execution_count": 26,
      "outputs": [
        {
          "output_type": "execute_result",
          "data": {
            "text/plain": [
              "1.8540746773013719"
            ]
          },
          "metadata": {},
          "execution_count": 26
        }
      ]
    },
    {
      "cell_type": "code",
      "source": [
        "m= 0.5\n",
        "m1=1-m\n",
        "eps=3E-5\n",
        "a0= 1.3862944\n",
        "b0= 0.5\n",
        "a1= 0.1119723\n",
        "b1= 0.1213478\n",
        "a2= 0.00725296\n",
        "b2= 0.0288729\n"
      ],
      "metadata": {
        "id": "Xo5ZjZ5XG4AA"
      },
      "execution_count": 27,
      "outputs": []
    },
    {
      "cell_type": "code",
      "source": [
        "num_inte= a0+a1*m1+a2*m1-(b0+b1*m1+b2*m1**2)*np.log10(m1)+eps\n",
        "num_inte"
      ],
      "metadata": {
        "colab": {
          "base_uri": "https://localhost:8080/"
        },
        "id": "qRWuH-SfG8wy",
        "outputId": "6bb488d9-87eb-419d-8560-0812cef41f13"
      },
      "execution_count": 28,
      "outputs": [
        {
          "output_type": "execute_result",
          "data": {
            "text/plain": [
              "1.6168895939263592"
            ]
          },
          "metadata": {},
          "execution_count": 28
        }
      ]
    },
    {
      "cell_type": "code",
      "source": [],
      "metadata": {
        "id": "FXff_ZxFHO7u"
      },
      "execution_count": null,
      "outputs": []
    }
  ]
}